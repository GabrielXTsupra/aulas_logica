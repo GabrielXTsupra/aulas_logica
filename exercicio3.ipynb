{
 "cells": [
  {
   "cell_type": "code",
   "execution_count": null,
   "metadata": {},
   "outputs": [],
   "source": [
    "# 1. Pede ao usuário para digitar um número de 1 a 7 e imprime o dia da semana correspondente."
   ]
  },
  {
   "cell_type": "code",
   "execution_count": 11,
   "metadata": {},
   "outputs": [
    {
     "name": "stdout",
     "output_type": "stream",
     "text": [
      "quarta\n"
     ]
    }
   ],
   "source": [
    "numero = int(input('digite um numero de 1 a 7'))\n",
    "match numero:\n",
    "    case 1:\n",
    "        print('domingo')\n",
    "    case 2:\n",
    "        print ('segunda')\n",
    "    case 3:\n",
    "        print ('terça')\n",
    "    case 4:\n",
    "        print ('quarta')\n",
    "    case 5:\n",
    "        print ('quinta')\n",
    "    case 6:\n",
    "        print ('sexta')\n",
    "    case 7:\n",
    "        print ('sabado')"
   ]
  },
  {
   "cell_type": "code",
   "execution_count": null,
   "metadata": {},
   "outputs": [],
   "source": [
    "#Pede ao usuário o ano atual e o ano de nascimento e verifique em qual faixa etária elepertence considerando (abaixo de 10 é criança, de 11 a 17 adolescente, de 18 a 59 adulto,acima de 60 idoso)"
   ]
  },
  {
   "cell_type": "code",
   "execution_count": 69,
   "metadata": {},
   "outputs": [
    {
     "name": "stdout",
     "output_type": "stream",
     "text": [
      "4\n",
      "você e criança\n"
     ]
    }
   ],
   "source": [
    "ano1= int(input('digita o ano atual'))\n",
    "ano2 = int(input('digite o seu ano de nascimento'))\n",
    "subitracao = ano1- ano2 \n",
    "print (subitracao)\n",
    "if subitracao < 10:\n",
    "    print('você e criança')\n",
    "else:\n",
    "    if subitracao >= 11 and subitracao < 17:\n",
    "        print ('você e adolecente')\n",
    "    else:\n",
    "        if subitracao >= 18 and subitracao < 59:\n",
    "            print ('você e adulto')\n",
    "        else:\n",
    "            if subitracao >= 60:\n",
    "                print ('você e idoso')\n"
   ]
  },
  {
   "cell_type": "code",
   "execution_count": 76,
   "metadata": {},
   "outputs": [
    {
     "name": "stdout",
     "output_type": "stream",
     "text": [
      "tem 30 dias\n"
     ]
    }
   ],
   "source": [
    "mes = (input('digite o nome de qualquer mes'))\n",
    "match mes:\n",
    "    case 'janeiro':\n",
    "        print('tem 31 dias')\n",
    "    case 'feverero':\n",
    "        print ('tem 28 ou 29 dias, se for ano bixesto')\n",
    "    case 'março':\n",
    "        print ('tem 31 dias')\n",
    "    case 'abril':\n",
    "        print ('tem 30 dias')\n",
    "    case 'maio':\n",
    "        print ('tem 31 dias')\n",
    "    case 'junho':\n",
    "        print ('tem 30 dias')\n",
    "    case 'julho':\n",
    "        print ('tem 31 dias') \n",
    "    case 'agosto':\n",
    "        print ('tem 30 dias')\n",
    "    case 'setembro':\n",
    "        print ('tem 31 dias')\n",
    "    case 'novembro':\n",
    "        print ('tem 30 dias')\n",
    "    case 'dezembro':\n",
    "        print ('tem 31 dias')\n"
   ]
  },
  {
   "cell_type": "markdown",
   "metadata": {},
   "source": [
    "# Pede ao usuário para digitar 2 notas e calcule sua média, e considere a média acima de 7 aprovado, entre 5 e 7, em recuperação, abaixo de 5 reprovado."
   ]
  },
  {
   "cell_type": "code",
   "execution_count": 79,
   "metadata": {},
   "outputs": [
    {
     "name": "stdout",
     "output_type": "stream",
     "text": [
      "3.5\n",
      "reprovado\n"
     ]
    }
   ],
   "source": [
    "nota1 = int(input('digite a primeira nota'))\n",
    "nota2 = int(input('digite a segunda nota'))\n",
    "media = (nota1 + nota2) / 2 \n",
    "print (media)\n",
    "if media > 7:\n",
    "    print ('aprovado')\n",
    "else:\n",
    "    if media >= 5 and media <7:\n",
    "        print ('recuperacao')\n",
    "    else: \n",
    "        if media <5:\n",
    "            print ('reprovado')"
   ]
  },
  {
   "cell_type": "markdown",
   "metadata": {},
   "source": [
    "# Pede o salário do funcionário, e calcular o aumento que ele terá, considerando se ganhar até 2000, reajuste de 12%, até 4000, reajuste de 10%, acima de 4000 reajuste de 8%, exibir o novo salário"
   ]
  },
  {
   "cell_type": "code",
   "execution_count": null,
   "metadata": {},
   "outputs": [],
   "source": [
    "salario = int(input('digite seu salario:')) "
   ]
  }
 ],
 "metadata": {
  "kernelspec": {
   "display_name": "Python 3",
   "language": "python",
   "name": "python3"
  },
  "language_info": {
   "codemirror_mode": {
    "name": "ipython",
    "version": 3
   },
   "file_extension": ".py",
   "mimetype": "text/x-python",
   "name": "python",
   "nbconvert_exporter": "python",
   "pygments_lexer": "ipython3",
   "version": "3.12.2"
  }
 },
 "nbformat": 4,
 "nbformat_minor": 2
}
