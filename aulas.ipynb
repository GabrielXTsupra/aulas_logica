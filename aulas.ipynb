{
 "cells": [
  {
   "cell_type": "markdown",
   "metadata": {},
   "source": [
    "Aula 16/02/2024 - comandos de saída/tipos de dasos/operações aritimeticas (+/*-%**)"
   ]
  },
  {
   "cell_type": "code",
   "execution_count": 2,
   "metadata": {},
   "outputs": [
    {
     "name": "stdout",
     "output_type": "stream",
     "text": [
      "Ola, mundo!!!\n",
      "Ola, mundo!!!\n",
      "Ola, mundo!!!\n",
      "string 10 70.5 False\n",
      "14\n",
      "60\n",
      "80\n",
      "1316223135288\n",
      "1609.0\n",
      "1\n",
      "27\n",
      "7.0\n",
      "Meu primeiro código em python. Usando aspas duplas\n",
      "Meu primeiro código em python. Usando aspas simples\n",
      "Para duplicar uma linha pressionei shift + alt + Seta Baixo\n",
      "123\n",
      "70.5\n",
      "True\n",
      "Sesi\n"
     ]
    }
   ],
   "source": [
    "#Esse é meu primeiro comentário\n",
    "#a função print serve para exibir na tela alguma mensagem.\n",
    "print('Ola, mundo!!!')\n",
    "print('Ola, mundo!!!')\n",
    "print('Ola, mundo!!!')\n",
    "print('string', 10,70.5, False) # possi imprimir varias informaçoes oa mesmo tempo separandoas-as por,\n",
    "print(8 + 6) #\n",
    "print(10 + 50) # + e o nosso operador de soma(de um numero intero ou decimal)\n",
    "print(67 +13) # - e o operador de subitraçao ( n° inteiro ou decimal)\n",
    "print(4214328 * 312321) # * e operador de multiplicaçao \n",
    "print(4827 / 3) # / e operador de divisao \n",
    "print(31 % 2) # % e o operador do resto da divisao \n",
    "print(3 ** 3) # ** e o operador de exponenciaçao 3³\n",
    "print( (8 + 6) / 2) # o parentesses define a maior ordem de precedencia \n",
    "print(\"Meu primeiro código em python. Usando aspas duplas\")\n",
    "print('Meu primeiro código em python. Usando aspas simples')\n",
    "print('Para duplicar uma linha pressionei shift + alt + Seta Baixo')\n",
    "print(123) #Estou exibindo um número inteiro, por isso, não preciso da \"\"\n",
    "print(70.5) #Número float \n",
    "print(True) #Campo lógico (Verdadeiro ou falso) (true ou false)\n",
    "print(\"Sesi\") #Tipo string"
   ]
  },
  {
   "cell_type": "markdown",
   "metadata": {},
   "source": [
    "Auala 22/02/2024 - comandos de entrada (input) / variaveis/pseudocódigo "
   ]
  },
  {
   "cell_type": "code",
   "execution_count": 7,
   "metadata": {},
   "outputs": [
    {
     "name": "stdout",
     "output_type": "stream",
     "text": [
      "desinvolvimento de sistema\n",
      "cuso\n",
      "desinvolvimento de sistemas\n",
      "curso desinvolvimento de sistemas\n",
      "ola Gabriel Guissoni {15} {24.0}\n",
      "<class 'str'> <class 'str'> <class 'str'>\n"
     ]
    }
   ],
   "source": [
    "#declarando minha primeira variavel \n",
    "#lemos da seguinte forma:\n",
    "#variavel curso recebe (=) a string \"desenvolvimento de sistema\" \n",
    "#receba/armazene o texto \"densevolvimento de sistema\"\n",
    "curso = \"desinvolvimento de sistemas\"\n",
    "print(\"desinvolvimento de sistema\")\n",
    "print(\"cuso\") #Para imprimir uma  variavel nã se coloca ente \"\"\n",
    "print(curso) # jeito correto de utilizar uma vareavel  \n",
    "print(\"curso\", curso)\n",
    "#criando e atribuindo uma variavel\n",
    "idade = 15\n",
    "temperatura = 24.0\n",
    "nome = \"Gabriel Guissoni\"\n",
    "print(f\"ola {nome}\",{idade},{temperatura})\n",
    "#declarando variaveis lógicas, recebe apenas True ou False   \n",
    "chovendo = False \n",
    "dia = True \n",
    "#nesta linha abaixo ocorrera um erro, pois nao existe uma variavel com o nome salario, entao não consegue encontrar nada para exibir \n",
    "#nameErro: name 'salario' is not defined\n",
    "#print(\"salario\", salario)\n",
    "#declarando um constante, diferenemente de vsriavel que posso alterar o valor na contante não é permitido, declaramos com o nome todo em maiusculo \n",
    "Pi = 3.1415\n",
    "#passo1: receber o nome da pessoa\n",
    "nome = input (\"digite seu nome\")\n",
    "#passo2: receber a idade da pessoa \n",
    "#posso conventer essa string recebida do tipo float \n",
    "idade = input(\"digite sua idade\") \n",
    "#passo3: recebr o peso da pessoa \n",
    "peso = input(\"digite seu peso\")\n",
    "#passo4: exibir o nome, a idade e o peso da pessoa \n",
    "\n",
    "nome = input('qual é seu nome?')\n",
    "idade = input('qual é sua idade?')\n",
    "#exibindo os tipos de vareaveis\n",
    "#tudo que recebemos do intup e do tipo sting \n",
    "print(type(nome), type(idade), type(peso))\n"
   ]
  },
  {
   "cell_type": "code",
   "execution_count": 67,
   "metadata": {},
   "outputs": [
    {
     "ename": "SyntaxError",
     "evalue": "invalid syntax (379842328.py, line 1)",
     "output_type": "error",
     "traceback": [
      "\u001b[1;36m  Cell \u001b[1;32mIn[67], line 1\u001b[1;36m\u001b[0m\n\u001b[1;33m    29/2/24 -\u001b[0m\n\u001b[1;37m              ^\u001b[0m\n\u001b[1;31mSyntaxError\u001b[0m\u001b[1;31m:\u001b[0m invalid syntax\n"
     ]
    }
   ],
   "source": [
    "29/2/24 - "
   ]
  },
  {
   "cell_type": "code",
   "execution_count": 90,
   "metadata": {},
   "outputs": [
    {
     "name": "stdout",
     "output_type": "stream",
     "text": [
      "False\n",
      " a > b ? False\n",
      "a == b ? False\n",
      " a = b True\n",
      " a = b False\n",
      " a >= b True\n"
     ]
    }
   ],
   "source": [
    "a= 2\n",
    "b = 3\n",
    "print (a>b)\n",
    "print (f' a > b ? {a >b}')\n",
    "print (f'a == b ? {a == b}')\n",
    "print (f' a = b {a != b}')\n",
    "print (f' a = b {a > 2}')\n",
    "print (f' a >= b {a >= 2}')"
   ]
  },
  {
   "cell_type": "code",
   "execution_count": 2,
   "metadata": {},
   "outputs": [
    {
     "name": "stdout",
     "output_type": "stream",
     "text": [
      "posso entrar\n",
      "fim\n"
     ]
    }
   ],
   "source": [
    "tenho_ingresso = True \n",
    "if tenho_ingresso == True:\n",
    "    print ('posso entrar')\n",
    "    print('fim')"
   ]
  },
  {
   "cell_type": "code",
   "execution_count": 29,
   "metadata": {},
   "outputs": [
    {
     "name": "stdout",
     "output_type": "stream",
     "text": [
      "maior idade\n"
     ]
    }
   ],
   "source": [
    "#passo1: receber o valor da idade \n",
    "idade = int(input('qual a sua idade?'))\n",
    "\n",
    "#passo2: verificar se e maior ou igual a 18 entao \n",
    "if idade >= 18:\n",
    "    #passo3: se for exibir \"maior idade\"\n",
    "    print (\"maior idade\")\n",
    "    "
   ]
  },
  {
   "cell_type": "code",
   "execution_count": 28,
   "metadata": {},
   "outputs": [
    {
     "ename": "SyntaxError",
     "evalue": "expected ':' (573164248.py, line 2)",
     "output_type": "error",
     "traceback": [
      "\u001b[1;36m  Cell \u001b[1;32mIn[28], line 2\u001b[1;36m\u001b[0m\n\u001b[1;33m    if tenho_ingresso == True\u001b[0m\n\u001b[1;37m                              ^\u001b[0m\n\u001b[1;31mSyntaxError\u001b[0m\u001b[1;31m:\u001b[0m expected ':'\n"
     ]
    }
   ],
   "source": [
    "tenho_ingresso = True\n",
    "if tenho_ingresso == True \n",
    "    print ('posso entrar')\n",
    "else:\n",
    "    print ('vai comprar')"
   ]
  },
  {
   "cell_type": "markdown",
   "metadata": {},
   "source": [
    "01/03/2024 - operadore logicos e estrutura condicional \n"
   ]
  },
  {
   "cell_type": "code",
   "execution_count": 3,
   "metadata": {},
   "outputs": [
    {
     "name": "stdout",
     "output_type": "stream",
     "text": [
      "False\n",
      "False\n",
      "True\n"
     ]
    },
    {
     "ename": "NameError",
     "evalue": "name 'idade' is not defined",
     "output_type": "error",
     "traceback": [
      "\u001b[1;31m---------------------------------------------------------------------------\u001b[0m",
      "\u001b[1;31mNameError\u001b[0m                                 Traceback (most recent call last)",
      "Cell \u001b[1;32mIn[3], line 11\u001b[0m\n\u001b[0;32m      9\u001b[0m \u001b[38;5;28mprint\u001b[39m (a\u001b[38;5;241m>\u001b[39m\u001b[38;5;241m2\u001b[39m \u001b[38;5;129;01mor\u001b[39;00m b\u001b[38;5;241m<\u001b[39m\u001b[38;5;241m5\u001b[39m)\u001b[38;5;66;03m#True\u001b[39;00m\n\u001b[0;32m     10\u001b[0m \u001b[38;5;66;03m# false True \u001b[39;00m\n\u001b[1;32m---> 11\u001b[0m \u001b[38;5;28mprint\u001b[39m(\u001b[43midade\u001b[49m \u001b[38;5;241m>\u001b[39m \u001b[38;5;241m18\u001b[39m \u001b[38;5;129;01mor\u001b[39;00m idade \u001b[38;5;241m==\u001b[39m \u001b[38;5;241m18\u001b[39m)\n\u001b[0;32m     12\u001b[0m \u001b[38;5;66;03m# idade >== 18 \u001b[39;00m\n",
      "\u001b[1;31mNameError\u001b[0m: name 'idade' is not defined"
     ]
    }
   ],
   "source": [
    "a = 2\n",
    "b = 3\n",
    "c = 5 \n",
    "#false false \n",
    "print (a>b and b<2)#false \n",
    "#false false \n",
    "print (a>b or b<2)#false \n",
    "#false True\n",
    "print (a>2 or b<5)#True\n",
    "# false True \n",
    "print(idade > 18 or idade == 18)\n",
    "# idade >== 18 \n"
   ]
  },
  {
   "cell_type": "code",
   "execution_count": null,
   "metadata": {},
   "outputs": [],
   "source": [
    "lado1 = (input('digite lado1')) \n",
    "lado2 = (input('digiter lado2'))\n",
    "lado3 = (input('digite lado3')) "
   ]
  },
  {
   "cell_type": "code",
   "execution_count": 17,
   "metadata": {},
   "outputs": [
    {
     "name": "stdout",
     "output_type": "stream",
     "text": [
      "peso ideal\n"
     ]
    }
   ],
   "source": [
    "altura = float(input('digite sua altura (em m):'))\n",
    "peso = float(input('digite seu peso em kg:'))\n",
    "imc = peso/ (altura**2)\n",
    "if imc < 18.5 :\n",
    "    print('abaixo do peso ideal')\n",
    "elif imc >= 18.6 and imc <= 24.9 : \n",
    "    print('peso ideal')\n",
    "elif imc >= 25 and imc <= 29.9:\n",
    "    print ('sobrepeso')\n",
    "else: \n",
    "    print('obsidade')\n"
   ]
  },
  {
   "cell_type": "code",
   "execution_count": 19,
   "metadata": {},
   "outputs": [
    {
     "name": "stdout",
     "output_type": "stream",
     "text": [
      "triangilo escalendo\n"
     ]
    }
   ],
   "source": [
    "lado1 = (input('digite lado1')) \n",
    "lado2 = (input('digiter lado2'))\n",
    "lado3 = (input('digite lado3')) \n",
    "if (lado1 == lado2) and (lado2 == lado3):\n",
    "    print ('triangulo equilatro')\n",
    "elif (lado1 != lado2) and (lado2 != lado3) and (lado3 != lado1):\n",
    "    print ('triangilo escalendo')\n",
    "else: \n",
    "    print ('triangulo isosceles') "
   ]
  },
  {
   "cell_type": "code",
   "execution_count": 38,
   "metadata": {},
   "outputs": [
    {
     "ename": "SyntaxError",
     "evalue": "invalid syntax (2542605489.py, line 3)",
     "output_type": "error",
     "traceback": [
      "\u001b[1;36m  Cell \u001b[1;32mIn[38], line 3\u001b[1;36m\u001b[0m\n\u001b[1;33m    print (f' a letra {letra} é uma vogal'):\u001b[0m\n\u001b[1;37m                                           ^\u001b[0m\n\u001b[1;31mSyntaxError\u001b[0m\u001b[1;31m:\u001b[0m invalid syntax\n"
     ]
    }
   ],
   "source": [
    "letra = input(\"digite uma letra\")\n",
    "if letra == 'a' or letra == 'e' or letra == 'i' or letra == 'o' or letra == 'u':\n",
    "    print (f' a letra {letra} é uma vogal'):\n",
    "elif letra =='1' or letra == '2':\n",
    "     print (f' a letra {letra} e uma numero'): \n",
    "else:\n",
    "    print (f' a letra {letra} nao e uma vogal'): "
   ]
  },
  {
   "cell_type": "markdown",
   "metadata": {},
   "source": [
    "07/03/2024 - Estrutura condicional aninhada/ match case"
   ]
  },
  {
   "cell_type": "code",
   "execution_count": 6,
   "metadata": {},
   "outputs": [
    {
     "name": "stdout",
     "output_type": "stream",
     "text": [
      "voce e obrigado a votar\n"
     ]
    }
   ],
   "source": [
    "idade = int(input('digite sua idade'))\n",
    "if idade >= 18 and idade <= 70:\n",
    "    print('voce e obrigado a votar')\n",
    "else:\n",
    "    if idade < 16:\n",
    "        print ('voce nao pode votar')\n",
    "    else:\n",
    "        if idade >= 16 or idade > 70:\n",
    "            print('seu voto e facultativo')\n"
   ]
  },
  {
   "cell_type": "code",
   "execution_count": 106,
   "metadata": {},
   "outputs": [
    {
     "name": "stdout",
     "output_type": "stream",
     "text": [
      "575\n"
     ]
    }
   ],
   "source": [
    "numero1 = int(input('digite o primeiro numero'))\n",
    "numero2 = int(input('digite o segundo numero'))\n",
    "operador = (input('digite o operador +-*/**'))\n",
    "match operador:\n",
    "    case '+':\n",
    "        print (numero1 + numero2)\n",
    "    case '-':\n",
    "        print (numero1 - numero2)\n",
    "    case '*':\n",
    "        print (numero1 * numero2)\n",
    "    case '/':\n",
    "        print (numero1 / numero2)\n",
    "    case '**':\n",
    "        print (numero1 ** numero2)\n",
    "    case _:\n",
    "        print ('operador digitado invalido')"
   ]
  },
  {
   "cell_type": "code",
   "execution_count": 107,
   "metadata": {},
   "outputs": [
    {
     "name": "stdout",
     "output_type": "stream",
     "text": [
      "32 + 43 = 75\n"
     ]
    }
   ],
   "source": [
    "numero1 = int(input('digite o primeiro numero'))\n",
    "numero2 = int(input('digite o segundo numero'))\n",
    "operador = (input('digite o operador +-*/**'))\n",
    "match operador:\n",
    "    case '+':\n",
    "        print(f'{numero1} {operador} {numero2} = {numero1 + numero2}')\n",
    "    case '-':\n",
    "        print(f'{numero1} {operador} {numero2} = {numero1 - numero2}')\n",
    "    case '/':\n",
    "        print(f'{numero1} {operador} {numero2} = {numero1 / numero2}')\n",
    "    case '*':\n",
    "        print(f'{numero1} {operador} {numero2} = {numero1 * numero2}')\n",
    "    case '**':\n",
    "        print(f'{numero1} {operador} {numero2} = {numero1 ** numero2}')\n",
    "    case _:\n",
    "        print('operador digitado invalido')"
   ]
  },
  {
   "cell_type": "markdown",
   "metadata": {},
   "source": [
    "21/03/2024 - Revisão dp while"
   ]
  },
  {
   "cell_type": "code",
   "execution_count": 3,
   "metadata": {},
   "outputs": [
    {
     "name": "stdout",
     "output_type": "stream",
     "text": [
      ".=.=.=.=.=.=.=.=.=..=.=..=..=.=.=.=.=.=.=.=.=.=.=.=.\n",
      "             🤔JOGO DA ADIVINHAÇÃO🤔              \n",
      ".=.=...=.=.=.=.=.=.=.=.=.==.=.=.=.=.=.=.=.=.=..===..\n",
      "vc chutou 34. tente um numero maior\n",
      "vc chutou 65. tente um numero maior\n",
      "vc chutou 100. tente um numero menor\n",
      "vc chutou 98. tente um numero maior\n",
      "vc chutou 99. Parabens vc acertou\n"
     ]
    }
   ],
   "source": [
    "#impotando a biblioteca de numeros aleatorios\n",
    "import random\n",
    "#sorteando um numerode 1 a 100 \n",
    "nrSorteado = random.randint(1, 100)\n",
    "print('.=.=.=.=.=.=.=.=.=..=.=..=..=.=.=.=.=.=.=.=.=.=.=.=.')\n",
    "print( '             🤔JOGO DA ADIVINHAÇÃO🤔              ')\n",
    "print('.=.=...=.=.=.=.=.=.=.=.=.==.=.=.=.=.=.=.=.=.=..===..')\n",
    "acertou = False\n",
    "while acertou == False: \n",
    "    chute = int(input('digite um numero de 1 e 100: 🦝'))\n",
    "    if chute == nrSorteado:\n",
    "        print(f'vc chutou {chute}. Parabens vc acertou')\n",
    "        acertou = True\n",
    "    elif chute > nrSorteado : \n",
    "        print(f'vc chutou {chute}. tente um numero menor')\n",
    "    else:\n",
    "        print(f'vc chutou {chute}. tente um numero maior')\n",
    "\n"
   ]
  },
  {
   "cell_type": "code",
   "execution_count": 5,
   "metadata": {},
   "outputs": [
    {
     "name": "stdout",
     "output_type": "stream",
     "text": [
      "0\n",
      "1\n",
      "2\n",
      "3\n",
      "4\n"
     ]
    }
   ],
   "source": [
    "# x = 1\n",
    "#while x <= 20:\n",
    "#print(x)\n",
    "# x = x + 1\n",
    "# print (FIM)\n",
    "for x in range(5):\n",
    "    print(x)"
   ]
  },
  {
   "cell_type": "code",
   "execution_count": 7,
   "metadata": {},
   "outputs": [
    {
     "name": "stdout",
     "output_type": "stream",
     "text": [
      "1\n",
      "2\n",
      "3\n",
      "4\n",
      "5\n",
      "6\n",
      "7\n",
      "8\n",
      "9\n"
     ]
    }
   ],
   "source": [
    "for x in range (1,10):\n",
    "    print(x)"
   ]
  },
  {
   "cell_type": "code",
   "execution_count": 6,
   "metadata": {},
   "outputs": [
    {
     "name": "stdout",
     "output_type": "stream",
     "text": [
      "5\n",
      "7\n",
      "9\n",
      "11\n",
      "13\n",
      "15\n",
      "17\n",
      "19\n",
      "21\n",
      "23\n",
      "25\n",
      "27\n",
      "29\n"
     ]
    }
   ],
   "source": [
    "for x in range (5,30,2):\n",
    "    print(x)"
   ]
  },
  {
   "cell_type": "code",
   "execution_count": 80,
   "metadata": {},
   "outputs": [
    {
     "name": "stdout",
     "output_type": "stream",
     "text": [
      "3 x 0 = \n",
      "3 x 1 = 3\n",
      "3 x 2 = 33\n",
      "3 x 3 = 333\n",
      "3 x 4 = 3333\n",
      "3 x 5 = 33333\n",
      "3 x 6 = 333333\n",
      "3 x 7 = 3333333\n",
      "3 x 8 = 33333333\n",
      "3 x 9 = 333333333\n",
      "3 x 10 = 3333333333\n"
     ]
    }
   ],
   "source": [
    "\n",
    "for x in range (11):\n",
    "    print (f'{n} x {x} = {n*x}')"
   ]
  },
  {
   "cell_type": "markdown",
   "metadata": {},
   "source": [
    "28/03/2024 - váriaves compostas - Vetores/ listas "
   ]
  },
  {
   "cell_type": "code",
   "execution_count": 18,
   "metadata": {},
   "outputs": [
    {
     "name": "stdout",
     "output_type": "stream",
     "text": [
      "maça\n"
     ]
    }
   ],
   "source": [
    "frutas = ['maça', 'banana', 'abacaxi' , 'Uva']\n",
    "print( frutas [0])\n",
    "#Declaração de uma lista vasia\n",
    "lista_vazia = []\n",
    "#dlecaraão de uma lista de numero\n",
    "numeros = [5, 8, 10, 40, 3]\n",
    "#declaração de uma lista de string\n",
    "nomes = ['ana' , 'joão','Maria']\n",
    "#declaração de uma lista mista \n",
    "lista_mista = [ 1, \"teste\", True, 3,5]"
   ]
  },
  {
   "cell_type": "code",
   "execution_count": 37,
   "metadata": {},
   "outputs": [
    {
     "name": "stdout",
     "output_type": "stream",
     "text": [
      "['maça', 'banana', 'abacaxi', 'melancia']\n"
     ]
    }
   ],
   "source": [
    "frutas = ['maça', 'banana', 'abacaxi' , 'Uva']\n",
    "frutas [3] = 'melancia'\n",
    "print (frutas)"
   ]
  },
  {
   "cell_type": "code",
   "execution_count": 60,
   "metadata": {},
   "outputs": [
    {
     "name": "stdout",
     "output_type": "stream",
     "text": [
      "['maça', 'banana', 'morango', 'abacaxi', 'Uva']\n"
     ]
    }
   ],
   "source": [
    "#Incluindo um novo item no final\n",
    "frutas = ['maça', 'banana', 'abacaxi' , 'Uva']\n",
    "frutas.insert(2,'morango')\n",
    "print (frutas)"
   ]
  },
  {
   "cell_type": "code",
   "execution_count": 58,
   "metadata": {},
   "outputs": [
    {
     "name": "stdout",
     "output_type": "stream",
     "text": [
      "['maça', 'banana', 'abacaxi', 'Uva', 'laranja']\n"
     ]
    }
   ],
   "source": [
    "frutas = ['maça', 'banana', 'abacaxi' , 'Uva']\n",
    "frutas.append('laranja')\n",
    "print (frutas)\n"
   ]
  },
  {
   "cell_type": "code",
   "execution_count": 67,
   "metadata": {},
   "outputs": [
    {
     "name": "stdout",
     "output_type": "stream",
     "text": [
      "['banana', 'abacaxi', 'Uva']\n"
     ]
    }
   ],
   "source": [
    "frutas = ['maça', 'banana', 'abacaxi' , 'Uva']\n",
    "del frutas[0]\n",
    "print(frutas)\n",
    "\n"
   ]
  },
  {
   "cell_type": "code",
   "execution_count": 68,
   "metadata": {},
   "outputs": [
    {
     "name": "stdout",
     "output_type": "stream",
     "text": [
      "melancia\n"
     ]
    }
   ],
   "source": [
    "frutas = ['maça', 'banana','morango', 'abacaxi' , 'melancia', 'laranja' 'Uva']\n",
    "print(frutas[4])"
   ]
  },
  {
   "cell_type": "code",
   "execution_count": 69,
   "metadata": {},
   "outputs": [
    {
     "name": "stdout",
     "output_type": "stream",
     "text": [
      "['maça', 'banana', 'morango', 'abacaxi']\n"
     ]
    }
   ],
   "source": [
    "rutas = ['maça', 'banana','morango', 'abacaxi' , 'melancia', 'laranja' 'Uva']\n",
    "print(frutas[0:4])"
   ]
  },
  {
   "cell_type": "code",
   "execution_count": 70,
   "metadata": {},
   "outputs": [
    {
     "name": "stdout",
     "output_type": "stream",
     "text": [
      "['banana', 'morango', 'abacaxi', 'melancia', 'laranjaUva']\n"
     ]
    }
   ],
   "source": [
    "rutas = ['maça', 'banana','morango', 'abacaxi' , 'melancia', 'laranja' 'Uva']\n",
    "print(frutas[1:])"
   ]
  },
  {
   "cell_type": "code",
   "execution_count": 71,
   "metadata": {},
   "outputs": [
    {
     "name": "stdout",
     "output_type": "stream",
     "text": [
      "morango\n"
     ]
    }
   ],
   "source": [
    "rutas = ['maça', 'banana','morango', 'abacaxi' , 'melancia', 'laranja' 'Uva']\n",
    "print(frutas [-4])"
   ]
  },
  {
   "cell_type": "code",
   "execution_count": 79,
   "metadata": {},
   "outputs": [
    {
     "name": "stdout",
     "output_type": "stream",
     "text": [
      "7\n"
     ]
    }
   ],
   "source": [
    "frutas = ['maça', 'banana','morango', 'abacaxi' , 'melancia', 'laranja', 'Uva']\n",
    "print(len(frutas))"
   ]
  },
  {
   "cell_type": "markdown",
   "metadata": {},
   "source": [
    "04/04/2024 - Iteracão em lista"
   ]
  },
  {
   "cell_type": "code",
   "execution_count": 1,
   "metadata": {},
   "outputs": [
    {
     "name": "stdout",
     "output_type": "stream",
     "text": [
      "e uma vogal\n"
     ]
    }
   ],
   "source": [
    "#criando uma lista de vocais \n",
    "#criando uma lista de vocais \n",
    "vogais = ['a','e','i','o', 'u']\n",
    "if 'o' in vogais:\n",
    "    print('e uma vogal')\n",
    "else:\n",
    "    print('nao e uma vogal')"
   ]
  },
  {
   "cell_type": "code",
   "execution_count": 3,
   "metadata": {},
   "outputs": [
    {
     "ename": "NameError",
     "evalue": "name 'letra' is not defined",
     "output_type": "error",
     "traceback": [
      "\u001b[1;31m---------------------------------------------------------------------------\u001b[0m",
      "\u001b[1;31mNameError\u001b[0m                                 Traceback (most recent call last)",
      "Cell \u001b[1;32mIn[3], line 5\u001b[0m\n\u001b[0;32m      3\u001b[0m \u001b[38;5;66;03m#recebendo um caracter digitado pelo usuario\u001b[39;00m\n\u001b[0;32m      4\u001b[0m latra \u001b[38;5;241m=\u001b[39m \u001b[38;5;28minput\u001b[39m(\u001b[38;5;124m'\u001b[39m\u001b[38;5;124minforme um caracter\u001b[39m\u001b[38;5;124m'\u001b[39m)\n\u001b[1;32m----> 5\u001b[0m \u001b[38;5;28;01mif\u001b[39;00m \u001b[43mletra\u001b[49m \u001b[38;5;129;01min\u001b[39;00m vogais:\n\u001b[0;32m      6\u001b[0m     \u001b[38;5;28mprint\u001b[39m(\u001b[38;5;124m'\u001b[39m\u001b[38;5;124me uma vogal\u001b[39m\u001b[38;5;124m'\u001b[39m)\n\u001b[0;32m      7\u001b[0m \u001b[38;5;28;01melse\u001b[39;00m:\n",
      "\u001b[1;31mNameError\u001b[0m: name 'letra' is not defined"
     ]
    }
   ],
   "source": [
    "#criando uma lista de vocais \n",
    "vogais = ['a','e','i','o', 'u']\n",
    "#recebendo um caracter digitado pelo usuario\n",
    "latra = input('informe um caracter')\n",
    "if letra in vogais:\n",
    "    print('e uma vogal')\n",
    "else:\n",
    "    print('nao e uma vogal')"
   ]
  },
  {
   "cell_type": "code",
   "execution_count": 4,
   "metadata": {},
   "outputs": [
    {
     "name": "stdout",
     "output_type": "stream",
     "text": [
      "o caracter b e uma consoante\n"
     ]
    }
   ],
   "source": [
    "#criando uma lista de vocais \n",
    "vogais = ['a','e','i','o', 'u']\n",
    "letra = input('informe um caracter')\n",
    "consoante = ['b', 'c', 'd', 'f', 'g', 'h', 'j', 'k', 'l', 'm', 'n', 'p', 'q', 'r', 's', 't', 'v', 'x', 'y', 'w', 'z']\n",
    "if letra.lower() in vogais:\n",
    "    print(f'o caracter {letra} e uma vogal')\n",
    "elif letra.lower() in consoante :\n",
    "    print(f'o caracter {letra} e uma consoante')"
   ]
  },
  {
   "cell_type": "code",
   "execution_count": 32,
   "metadata": {},
   "outputs": [
    {
     "name": "stdout",
     "output_type": "stream",
     "text": [
      "pele\n",
      "maradona\n",
      "messi\n",
      "cr7\n"
     ]
    }
   ],
   "source": [
    "listanome = ['pele', 'maradona', 'messi', 'cr7']\n",
    "for nome in listanome:\n",
    "    print(nome) "
   ]
  },
  {
   "cell_type": "code",
   "execution_count": 19,
   "metadata": {},
   "outputs": [
    {
     "name": "stdout",
     "output_type": "stream",
     "text": [
      "4\n",
      "10\n",
      "12\n",
      "17\n",
      "26\n"
     ]
    }
   ],
   "source": [
    "listanrs = [4, 6, 2, 5, 9]\n",
    "soma = 0 \n",
    "for nr in listanrs:\n",
    "    soma = soma + nr\n",
    "    print(soma)"
   ]
  },
  {
   "cell_type": "code",
   "execution_count": 27,
   "metadata": {},
   "outputs": [
    {
     "name": "stdout",
     "output_type": "stream",
     "text": [
      " A fruta maca esta na posição 0\n",
      " A fruta banana esta na posição 1\n",
      " A fruta abacaxi esta na posição 2\n",
      " A fruta uva esta na posição 3\n"
     ]
    }
   ],
   "source": [
    "listaf = ['maca', 'banana', 'abacaxi','uva']\n",
    "for pos,fruta in enumerate(listaf):\n",
    "    print(f' A fruta {fruta} esta na posição {pos}')"
   ]
  },
  {
   "cell_type": "code",
   "execution_count": 30,
   "metadata": {},
   "outputs": [
    {
     "name": "stdout",
     "output_type": "stream",
     "text": [
      "celular\n",
      " notbook\n",
      " TV\n",
      " tablet\n",
      " headset\n"
     ]
    }
   ],
   "source": [
    "produtos = 'celular, notbook, TV, tablet, headset'\n",
    "listaprodutos = produtos.split(',')\n",
    "for produtos in listaprodutos :\n",
    "    print (produtos)"
   ]
  },
  {
   "cell_type": "code",
   "execution_count": 31,
   "metadata": {},
   "outputs": [
    {
     "name": "stdout",
     "output_type": "stream",
     "text": [
      "S\n",
      "e\n",
      "n\n",
      "a\n",
      "i\n"
     ]
    }
   ],
   "source": [
    "palavra = 'Senai'\n",
    "for letra in palavra:\n",
    "    print(letra)"
   ]
  },
  {
   "cell_type": "code",
   "execution_count": 1,
   "metadata": {},
   "outputs": [
    {
     "name": "stdout",
     "output_type": "stream",
     "text": [
      "1 º pizza\n",
      "2 º arroz \n",
      "3 º lasanha \n",
      "4 º pão\n"
     ]
    }
   ],
   "source": [
    "listacomida = []\n",
    "while True :\n",
    "    comida = input('digite uma comida que voce mias gosta')\n",
    "    listacomida.append(comida)\n",
    "    resp = input('dejesa continuar? [S/N]')\n",
    "    if resp in 'Nn':\n",
    "        break\n",
    "for pos, comida in enumerate(listacomida) :\n",
    "    print(f'{pos+1}º {comida}')\n"
   ]
  },
  {
   "cell_type": "markdown",
   "metadata": {},
   "source": [
    "11/04/2024 -funções"
   ]
  },
  {
   "cell_type": "code",
   "execution_count": 2,
   "metadata": {},
   "outputs": [
    {
     "name": "stdout",
     "output_type": "stream",
     "text": [
      "--------------------\n",
      "sesi/senai\n",
      "--------------------\n"
     ]
    }
   ],
   "source": [
    "print('-'*20)\n",
    "print('sesi/senai')\n",
    "print('-'*20)"
   ]
  },
  {
   "cell_type": "code",
   "execution_count": 8,
   "metadata": {},
   "outputs": [
    {
     "name": "stdout",
     "output_type": "stream",
     "text": [
      "--------------------\n",
      "sesi/senai\n",
      "--------------------\n"
     ]
    }
   ],
   "source": [
    "def linha():\n",
    "    print('-' *20)\n",
    "linha()\n",
    "print('sesi/senai')\n",
    "linha()\n"
   ]
  },
  {
   "cell_type": "code",
   "execution_count": 12,
   "metadata": {},
   "outputs": [
    {
     "name": "stdout",
     "output_type": "stream",
     "text": [
      "--------------------\n",
      "sesi/senai\n",
      "--------------------\n",
      "--------------------\n",
      "sesi/senai\n",
      "--------------------\n"
     ]
    }
   ],
   "source": [
    "def cabecalho():\n",
    "    print('-' *20)\n",
    "    print('sesi/senai')\n",
    "    print('-' *20)\n",
    "cabecalho()\n",
    "\n",
    "\n",
    "\n",
    "\n",
    "  \n",
    "cabecalho()"
   ]
  },
  {
   "cell_type": "code",
   "execution_count": 109,
   "metadata": {},
   "outputs": [
    {
     "name": "stdout",
     "output_type": "stream",
     "text": [
      " ggg tenha um bom dia\n",
      " uuu tenha um bom dia\n",
      " ooo7 tenha um bom dia\n"
     ]
    }
   ],
   "source": [
    "def saudacao():\n",
    "    nome = (input('digite seu nome'))\n",
    "    print(f' {nome} tenha um bom dia')\n",
    "      \n",
    "saudacao()\n",
    "saudacao()\n",
    "saudacao()"
   ]
  },
  {
   "cell_type": "code",
   "execution_count": 89,
   "metadata": {},
   "outputs": [
    {
     "name": "stdout",
     "output_type": "stream",
     "text": [
      "--------------------\n",
      "ola\n",
      "--------------------\n"
     ]
    }
   ],
   "source": [
    "def cabecalho(texto):\n",
    "    print(\"-\"*20)\n",
    "    print(texto)\n",
    "    print(\"-\"*20)\n",
    "cabecalho('ola')"
   ]
  },
  {
   "cell_type": "code",
   "execution_count": 96,
   "metadata": {},
   "outputs": [
    {
     "name": "stdout",
     "output_type": "stream",
     "text": [
      "a soma do 10.5 + 10.5 é 21.0\n"
     ]
    }
   ],
   "source": [
    "def soma(n1, n2):\n",
    "    res = n1 + n2\n",
    "    print(f'a soma do {n1} + {n2} é {res}')\n",
    "n1 = float(input('digite um numero'))\n",
    "n2 = float(input('digite um numero'))\n",
    "soma(n1,n2)"
   ]
  },
  {
   "cell_type": "code",
   "execution_count": 84,
   "metadata": {},
   "outputs": [
    {
     "name": "stdout",
     "output_type": "stream",
     "text": [
      "2 x 0   =0\n",
      "2 x 1   =2\n",
      "2 x 2   =4\n",
      "2 x 3   =6\n",
      "2 x 4   =8\n",
      "2 x 5   =10\n",
      "2 x 6   =12\n",
      "2 x 7   =14\n",
      "2 x 8   =16\n",
      "2 x 9   =18\n"
     ]
    }
   ],
   "source": [
    "n = int(input('digite 1 numero'))\n",
    "for x in range (10):\n",
    "    print(f'{n} x {x}   ={n*x}')"
   ]
  },
  {
   "cell_type": "code",
   "execution_count": 105,
   "metadata": {},
   "outputs": [
    {
     "name": "stdout",
     "output_type": "stream",
     "text": [
      "o numero 9 e impar\n",
      "o numero 10 e  par\n"
     ]
    }
   ],
   "source": [
    "\n",
    "def parimpa(numero):\n",
    "    res = numero % 2\n",
    "    if res == 0 :\n",
    "        print(f'o numero {numero} e  par')\n",
    "    else:\n",
    "        print(f'o numero {numero} e impar')\n",
    "    \n",
    "\n",
    "parimpa(9)\n",
    "parimpa(10)\n"
   ]
  },
  {
   "cell_type": "code",
   "execution_count": 108,
   "metadata": {},
   "outputs": [
    {
     "name": "stdout",
     "output_type": "stream",
     "text": [
      "9.0\n"
     ]
    }
   ],
   "source": [
    "def media(n1, n2):\n",
    "    res = (n1 + n2) / 2 \n",
    "    return(res)\n",
    "resultado_media = media(10, 8)\n",
    "print(resultado_media)"
   ]
  },
  {
   "cell_type": "code",
   "execution_count": 5,
   "metadata": {},
   "outputs": [
    {
     "name": "stdout",
     "output_type": "stream",
     "text": [
      "27/ 04/ 2024\n",
      "27/ 04/ 2024\n",
      "27/ 04/ 2024\n"
     ]
    }
   ],
   "source": [
    "def formatardata(d,m,a):\n",
    "    data =(f'{d}/ {m}/ {a}')\n",
    "    return(data)\n",
    "\n",
    "print (formatardata('27','04','2024'))\n",
    "print (formatardata('27','04','2024'))\n",
    "print (formatardata('27','04','2024'))\n",
    "\n",
    "    \n",
    "    "
   ]
  },
  {
   "cell_type": "code",
   "execution_count": null,
   "metadata": {},
   "outputs": [],
   "source": [
    "def nomeescola():\n",
    "    escola = 'SESI'\n",
    "    print(escola)\n",
    "nomeescola()"
   ]
  },
  {
   "cell_type": "code",
   "execution_count": 12,
   "metadata": {},
   "outputs": [
    {
     "ename": "SyntaxError",
     "evalue": "invalid syntax. Perhaps you forgot a comma? (4193455990.py, line 6)",
     "output_type": "error",
     "traceback": [
      "\u001b[1;36m  Cell \u001b[1;32mIn[12], line 6\u001b[1;36m\u001b[0m\n\u001b[1;33m    print('dentro da função,' x)\u001b[0m\n\u001b[1;37m          ^\u001b[0m\n\u001b[1;31mSyntaxError\u001b[0m\u001b[1;31m:\u001b[0m invalid syntax. Perhaps you forgot a comma?\n"
     ]
    }
   ],
   "source": [
    "x = 10\n",
    "print('fora da função', x)\n",
    "def minhafunssaum():\n",
    "    global x\n",
    "    x = x + 1\n",
    "    print('dentro da função,' x)\n",
    "minhafunssaum()\n",
    "print('fora da função,' x)"
   ]
  },
  {
   "cell_type": "code",
   "execution_count": null,
   "metadata": {},
   "outputs": [],
   "source": []
  }
 ],
 "metadata": {
  "kernelspec": {
   "display_name": "Python 3",
   "language": "python",
   "name": "python3"
  },
  "language_info": {
   "codemirror_mode": {
    "name": "ipython",
    "version": 3
   },
   "file_extension": ".py",
   "mimetype": "text/x-python",
   "name": "python",
   "nbconvert_exporter": "python",
   "pygments_lexer": "ipython3",
   "version": "3.12.3"
  }
 },
 "nbformat": 4,
 "nbformat_minor": 2
}
