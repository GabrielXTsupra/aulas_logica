{
 "cells": [
  {
   "cell_type": "code",
   "execution_count": 13,
   "metadata": {},
   "outputs": [
    {
     "name": "stdout",
     "output_type": "stream",
     "text": [
      "<class 'str'>\n"
     ]
    }
   ],
   "source": [
    "#Faça um programa que leia algo pelo teclado e mostre na tela o seu tipo primitivo.\n",
    "\n",
    "pessoa = input (\"digite uma frase: \")\n",
    "print (type(pessoa))"
   ]
  },
  {
   "cell_type": "code",
   "execution_count": 3,
   "metadata": {},
   "outputs": [
    {
     "name": "stdout",
     "output_type": "stream",
     "text": [
      "1.0000999999999999e+21\n"
     ]
    }
   ],
   "source": [
    "#Crie um programa que leia dois números e mostre a soma entre eles.\n",
    "numero1 = float(input(\"digite o primeiro numero\"))\n",
    "numero2 = float(input(\"digite o segundo numero\"))\n",
    "soma = (numero1 + numero2)\n",
    "print (soma)"
   ]
  },
  {
   "cell_type": "code",
   "execution_count": 6,
   "metadata": {},
   "outputs": [
    {
     "name": "stdout",
     "output_type": "stream",
     "text": [
      "o antecessor de 38 e 37\n",
      "o sucessor de 38 e 39\n"
     ]
    }
   ],
   "source": [
    "#Crie um programa que leia um número inteiro e mostre na tela o seu sucessor e antecessor.\n",
    "numero = int(input('digite um numero'))\n",
    "antecessor = numero - 1\n",
    "sucessor = numero + 1  \n",
    "print (f'o antecessor de {numero} e {antecessor}') \n",
    "print (f'o sucessor de {numero} e {sucessor}')"
   ]
  },
  {
   "cell_type": "code",
   "execution_count": 25,
   "metadata": {},
   "outputs": [
    {
     "ename": "NameError",
     "evalue": "name 'inout' is not defined",
     "output_type": "error",
     "traceback": [
      "\u001b[1;31m---------------------------------------------------------------------------\u001b[0m",
      "\u001b[1;31mNameError\u001b[0m                                 Traceback (most recent call last)",
      "Cell \u001b[1;32mIn[25], line 2\u001b[0m\n\u001b[0;32m      1\u001b[0m \u001b[38;5;66;03m#Crie um programa que leia um número e mostre o seu dobro, triplo e raiz quadrada.\u001b[39;00m\n\u001b[1;32m----> 2\u001b[0m numero \u001b[38;5;241m=\u001b[39m \u001b[38;5;28mfloat\u001b[39m(\u001b[43minout\u001b[49m(\u001b[38;5;124m\"\u001b[39m\u001b[38;5;124mdigite um numero:\u001b[39m\u001b[38;5;124m\"\u001b[39m))\n\u001b[0;32m      3\u001b[0m numero \u001b[38;5;241m=\u001b[39m numero \u001b[38;5;241m*\u001b[39m \u001b[38;5;241m2\u001b[39m \n",
      "\u001b[1;31mNameError\u001b[0m: name 'inout' is not defined"
     ]
    }
   ],
   "source": [
    "\n",
    "#Crie um programa que leia um número e mostre o seu dobro, triplo e raiz quadrada. \n",
    "numero = float(input('digite um numero:'))\n",
    "dobro = numero * 2\n",
    "triplo = numero * 3\n",
    "raiz = numero ** 0.5 \n",
    "print (f'seu numero e {numero}, o dobro e {dobro}')\n"
   ]
  },
  {
   "cell_type": "code",
   "execution_count": 7,
   "metadata": {},
   "outputs": [
    {
     "name": "stdout",
     "output_type": "stream",
     "text": [
      "28.5\n"
     ]
    }
   ],
   "source": [
    "#Crie um programa que leia duas notas de um aluno, calcule e mostre sua média.\n",
    "nota1 = float(input('digite a nota 1:'))\n",
    "nota2 = float(input('digite a nota 2:'))\n",
    "media = (nota1 + nota2) /2\n",
    "print (media)"
   ]
  },
  {
   "cell_type": "code",
   "execution_count": null,
   "metadata": {},
   "outputs": [],
   "source": [
    "#crie um progama que leia o valor em metros e o exiba convertido em centimetros e milimetros \n",
    "metro = float(input('insira uma media em metros:'))\n",
    "mm = metro * 1000\n",
    "cm = * 100\n",
    "print (f'{metro}m e igual a {cm}cm e {mm}mm')"
   ]
  },
  {
   "cell_type": "code",
   "execution_count": 13,
   "metadata": {},
   "outputs": [
    {
     "name": "stdout",
     "output_type": "stream",
     "text": [
      "tabuado do 50.0\n",
      "50.0 x 1 = 50.0\n",
      "50.0 x 2 = 100.0\n",
      "50.0 x 3 = 150.0\n",
      "50.0 x 4 = 200.0\n",
      "50.0 x 5 = 250.0\n",
      "50.0 x 6 = 300.0\n",
      "50.0 x 7 = 350.0\n",
      "50.0 x 8 = 400.0\n",
      "50.0 x 9 = 450.0\n",
      "50.0 x 10 = 500.0\n"
     ]
    }
   ],
   "source": [
    "#Crie um programa que leia um numero qualquer e mostre na tela a sua tabuada.\n",
    "numero = float(input('digete um numero real para calcular a tabuada'))\n",
    "print (f'tabuado do {numero}')\n",
    "print (f'{numero} x 1 = {numero*1}')\n",
    "print (f'{numero} x 2 = {numero*2}')\n",
    "print (f'{numero} x 3 = {numero*3}')\n",
    "print (f'{numero} x 4 = {numero*4}')\n",
    "print (f'{numero} x 5 = {numero*5}')\n",
    "print (f'{numero} x 6 = {numero*6}')\n",
    "print (f'{numero} x 7 = {numero*7}')\n",
    "print (f'{numero} x 8 = {numero*8}')\n",
    "print (f'{numero} x 9 = {numero*9}')\n",
    "print (f'{numero} x 10 = {numero*10}')\n",
    "\n"
   ]
  },
  {
   "cell_type": "code",
   "execution_count": 18,
   "metadata": {},
   "outputs": [
    {
     "name": "stdout",
     "output_type": "stream",
     "text": [
      "voce tem reias10.00\n"
     ]
    }
   ],
   "source": [
    "#- Crie um programa que leia quanto dinheiro a pessoa tem na carteira e mostre quantos dólares ela pode contar.\n",
    "real = float(input('digite o valor em reais:'))\n",
    "dolar = real / 5\n",
    "print (f'voce tem reias{dolar:.2f}')\n"
   ]
  },
  {
   "cell_type": "code",
   "execution_count": 23,
   "metadata": {},
   "outputs": [
    {
     "name": "stdout",
     "output_type": "stream",
     "text": [
      "para pintar uma area de 1035.0m², preciso de 517.5l\n"
     ]
    }
   ],
   "source": [
    "# crie um progama que leia a largura e a altura de uma parede em metros, calcule a sua area e a quantidade de tinta necessario para pinta-lo, sabendo que cada litro de tinta pinta uma area m²\n",
    "altura = float(input('digite a altura:'))\n",
    "largura = float(input('digite a largura:'))\n",
    "area = altura * largura \n",
    "litros = area / 2 \n",
    "print (f'para pintar uma area de {area}m², preciso de {litros}l')"
   ]
  },
  {
   "cell_type": "code",
   "execution_count": 19,
   "metadata": {},
   "outputs": [
    {
     "name": "stdout",
     "output_type": "stream",
     "text": [
      "29.0\n"
     ]
    }
   ],
   "source": [
    "#faça um algaritimo que leia o preço do produto e mostre seu novo preço com 5% de desconto \n",
    "valor = float(input('digite o valor:'))\n",
    "desconto = valor * 5 / 100\n",
    "valor = valor - desconto \n",
    "print (valor)"
   ]
  },
  {
   "cell_type": "code",
   "execution_count": 20,
   "metadata": {},
   "outputs": [
    {
     "name": "stdout",
     "output_type": "stream",
     "text": [
      "345.0\n"
     ]
    }
   ],
   "source": [
    "# faça um algoritimo que leia o salario do funcionario e mostre seu novo salario com 15% de aumento \n",
    "salario = float(input('digite salario:'))\n",
    "aumento = salario / 100 * 15 \n",
    "salario = salario + aumento\n",
    "print(salario)"
   ]
  },
  {
   "cell_type": "code",
   "execution_count": 22,
   "metadata": {},
   "outputs": [
    {
     "name": "stdout",
     "output_type": "stream",
     "text": [
      "34.0ºC e igual a 93.2ºF\n"
     ]
    }
   ],
   "source": [
    "#faça um algoritimo que receba um valor em gruas celcios e converta para farenheit\n",
    "graus = float(input('digite a temperatura em ºC'))\n",
    "valor = graus * 1.8 + 32\n",
    "print (f'{graus}ºC e igual a {valor}ºF')"
   ]
  },
  {
   "cell_type": "code",
   "execution_count": 24,
   "metadata": {},
   "outputs": [
    {
     "name": "stdout",
     "output_type": "stream",
     "text": [
      "o valor total sera de reais `4688.40\n"
     ]
    }
   ],
   "source": [
    "#faça um algoritimo que pergunte a quantidade de km percorrido por um carro alugado e a quantidade de dias pelos quais ele foi alugado o preço a pagar, sabendo que o carro custa 60reais por dia e 0.15reais  por km rodado\n",
    "km_percorrido = float(input('digite o km percorrido:'))\n",
    "dias = int(input('digite a quantidade de dias:'))\n",
    "pagar = (60 * dias) + (0.15 * km_percorrido)\n",
    "print (f'o valor total sera de reais `{pagar:.2f}')\n"
   ]
  }
 ],
 "metadata": {
  "kernelspec": {
   "display_name": "Python 3",
   "language": "python",
   "name": "python3"
  },
  "language_info": {
   "codemirror_mode": {
    "name": "ipython",
    "version": 3
   },
   "file_extension": ".py",
   "mimetype": "text/x-python",
   "name": "python",
   "nbconvert_exporter": "python",
   "pygments_lexer": "ipython3",
   "version": "3.12.2"
  }
 },
 "nbformat": 4,
 "nbformat_minor": 2
}
