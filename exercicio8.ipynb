{
 "cells": [
  {
   "cell_type": "code",
   "execution_count": 101,
   "metadata": {},
   "outputs": [
    {
     "name": "stdout",
     "output_type": "stream",
     "text": [
      "1\n",
      "2\n",
      "3\n",
      "4\n",
      "5\n",
      "6\n",
      "7\n",
      "8\n",
      "9\n",
      "10\n"
     ]
    }
   ],
   "source": [
    "#Crie uma lista com os números de 1 a 10 e imprima cada número.\n",
    "numeros = [1, 2, 3, 4, 5, 6, 7, 8, 9, 10]\n",
    "for lista in numeros :\n",
    "    print(lista)"
   ]
  },
  {
   "cell_type": "code",
   "execution_count": 13,
   "metadata": {},
   "outputs": [
    {
     "name": "stdout",
     "output_type": "stream",
     "text": [
      "gabriel\n",
      "marcos\n",
      "paulo\n"
     ]
    }
   ],
   "source": [
    "#Crie uma lista com os nomes de três amigos e imprima cada nome.\n",
    "nome = ['gabriel', 'marcos','paulo']\n",
    "for lista in nome:\n",
    "    print(lista)"
   ]
  },
  {
   "cell_type": "code",
   "execution_count": 69,
   "metadata": {},
   "outputs": [
    {
     "name": "stdout",
     "output_type": "stream",
     "text": [
      "janeiro\n",
      "junho\n",
      "julho\n"
     ]
    }
   ],
   "source": [
    "#Crie uma lista com os meses do ano e imprima apenas os meses que começam com \"J\".\n",
    "meses = ['janeiro', 'fevereiro', 'março', 'abril', 'maio', 'junho', 'julho', 'agosto', 'setembro', 'outubro', 'novembro', 'dezembro']\n",
    "for x in meses :\n",
    "    if x[0] == 'j' :\n",
    "        print(x)"
   ]
  },
  {
   "cell_type": "code",
   "execution_count": 105,
   "metadata": {},
   "outputs": [
    {
     "name": "stdout",
     "output_type": "stream",
     "text": [
      "GATO\n",
      "CACHORRO\n",
      "PASSARO\n",
      "PEIXE\n"
     ]
    }
   ],
   "source": [
    "#Crie uma lista com as palavras \"gato\", \"cachorro\", \"pássaro\" e \"peixe\", e imprima cada palavra em maiúsculas.\n",
    "animais = ['gato', 'cachorro', 'passaro', 'peixe',]\n",
    "for lista in animais:\n",
    "    print(lista.upper())\n",
    "    "
   ]
  },
  {
   "cell_type": "code",
   "execution_count": 109,
   "metadata": {},
   "outputs": [
    {
     "name": "stdout",
     "output_type": "stream",
     "text": [
      "2 4\n",
      "4 8\n",
      "6 12\n",
      "8 16\n",
      "9 18\n"
     ]
    }
   ],
   "source": [
    "#Crie uma lista com 5 números aleatórios e exiba o nr e seu dobro desse.\n",
    "numero = [2, 4, 6, 8, 9,]\n",
    "for nr in numero:\n",
    "    dobro = nr * 2\n",
    "    print(nr,dobro)\n",
    "\n"
   ]
  },
  {
   "cell_type": "code",
   "execution_count": 113,
   "metadata": {},
   "outputs": [
    {
     "ename": "TypeError",
     "evalue": "'>' not supported between instances of 'list' and 'int'",
     "output_type": "error",
     "traceback": [
      "\u001b[1;31m---------------------------------------------------------------------------\u001b[0m",
      "\u001b[1;31mTypeError\u001b[0m                                 Traceback (most recent call last)",
      "Cell \u001b[1;32mIn[113], line 6\u001b[0m\n\u001b[0;32m      4\u001b[0m maiornr \u001b[38;5;241m=\u001b[39m \u001b[38;5;241m0\u001b[39m\n\u001b[0;32m      5\u001b[0m \u001b[38;5;28;01mfor\u001b[39;00m nuemero \u001b[38;5;129;01min\u001b[39;00m valor:\n\u001b[1;32m----> 6\u001b[0m     \u001b[38;5;28;01mif\u001b[39;00m \u001b[43mnumero\u001b[49m\u001b[43m \u001b[49m\u001b[38;5;241;43m>\u001b[39;49m\u001b[43m \u001b[49m\u001b[43mmaiornr\u001b[49m:\n\u001b[0;32m      7\u001b[0m         maiornr \u001b[38;5;241m=\u001b[39m numero\n\u001b[0;32m      8\u001b[0m     \u001b[38;5;28;01mif\u001b[39;00m numero \u001b[38;5;241m<\u001b[39m menornr :\n",
      "\u001b[1;31mTypeError\u001b[0m: '>' not supported between instances of 'list' and 'int'"
     ]
    }
   ],
   "source": [
    "#Crie uma lista com valores numéricos e encontre o maior e o menor elemento dessa lista.\n",
    "valor = [2,5,10,1,40,3]\n",
    "menornr = 1000000000000\n",
    "maiornr = 0\n",
    "for nuemero in valor:\n",
    "    if numero > maiornr:\n",
    "        maiornr = numero\n",
    "    if numero < menornr :\n",
    "        menornr = numero\n",
    "print(menornr,maiornr)"
   ]
  },
  {
   "cell_type": "code",
   "execution_count": 117,
   "metadata": {},
   "outputs": [
    {
     "ename": "AttributeError",
     "evalue": "'str' object has no attribute 'lawer'",
     "output_type": "error",
     "traceback": [
      "\u001b[1;31m---------------------------------------------------------------------------\u001b[0m",
      "\u001b[1;31mAttributeError\u001b[0m                            Traceback (most recent call last)",
      "Cell \u001b[1;32mIn[117], line 5\u001b[0m\n\u001b[0;32m      3\u001b[0m qtdevogais \u001b[38;5;241m=\u001b[39m \u001b[38;5;241m0\u001b[39m\n\u001b[0;32m      4\u001b[0m \u001b[38;5;28;01mfor\u001b[39;00m letra \u001b[38;5;129;01min\u001b[39;00m palavra : \n\u001b[1;32m----> 5\u001b[0m     \u001b[38;5;28;01mif\u001b[39;00m \u001b[43mletra\u001b[49m\u001b[38;5;241;43m.\u001b[39;49m\u001b[43mlawer\u001b[49m() \u001b[38;5;129;01min\u001b[39;00m \u001b[38;5;124m'\u001b[39m\u001b[38;5;124maieou\u001b[39m\u001b[38;5;124m'\u001b[39m :\n\u001b[0;32m      6\u001b[0m         qtdevogais \u001b[38;5;241m=\u001b[39m qtdevogais \u001b[38;5;241m=\u001b[39m\u001b[38;5;241m+\u001b[39m \u001b[38;5;241m1\u001b[39m \n\u001b[0;32m      7\u001b[0m \u001b[38;5;28mprint\u001b[39m(\u001b[38;5;124mf\u001b[39m\u001b[38;5;124m'\u001b[39m\u001b[38;5;124m a palavra \u001b[39m\u001b[38;5;132;01m{\u001b[39;00mpalavra\u001b[38;5;132;01m}\u001b[39;00m\u001b[38;5;124m tem \u001b[39m\u001b[38;5;132;01m{\u001b[39;00mqtdevogais\u001b[38;5;132;01m}\u001b[39;00m\u001b[38;5;124m vogais\u001b[39m\u001b[38;5;124m'\u001b[39m)\n",
      "\u001b[1;31mAttributeError\u001b[0m: 'str' object has no attribute 'lawer'"
     ]
    }
   ],
   "source": [
    "#Receba uma palavra do usuário e calcule quantas vogais há nesta palavra.\n",
    "palavra = input('digite uma palavra:')\n",
    "qtdevogais = 0\n",
    "for letra in palavra : \n",
    "    if letra.lawer() in 'aieou' :\n",
    "        qtdevogais = qtdevogais =+ 1 \n",
    "print(f' a palavra {palavra} tem {qtdevogais} vogais')\n",
    "    \n"
   ]
  },
  {
   "cell_type": "code",
   "execution_count": 100,
   "metadata": {},
   "outputs": [
    {
     "name": "stdout",
     "output_type": "stream",
     "text": [
      "gol\n",
      "O carro gol esta na posição 0\n",
      "corsa\n",
      "O carro corsa esta na posição 1\n",
      "pailo\n",
      "O carro pailo esta na posição 2\n",
      "monza\n",
      "O carro monza esta na posição 3\n",
      "fusca\n",
      "O carro fusca esta na posição 4\n"
     ]
    }
   ],
   "source": [
    "#Nessa string ‘Gol;Corsa;Palio;Monza;Fusca;’, faça a separação desses itens para uma lista e exiba o item e a posição que ele está\n",
    "marcas = 'gol,corsa,pailo,monza,fusca'\n",
    "carros = marcas.split(',')\n",
    "for pos, marcas in enumerate(carros):\n",
    "    print(marcas)\n",
    "    print(f'O carro {marcas} esta na posição {pos}')\n",
    "\n",
    "\n",
    "     "
   ]
  }
 ],
 "metadata": {
  "kernelspec": {
   "display_name": "Python 3",
   "language": "python",
   "name": "python3"
  },
  "language_info": {
   "codemirror_mode": {
    "name": "ipython",
    "version": 3
   },
   "file_extension": ".py",
   "mimetype": "text/x-python",
   "name": "python",
   "nbconvert_exporter": "python",
   "pygments_lexer": "ipython3",
   "version": "3.12.3"
  }
 },
 "nbformat": 4,
 "nbformat_minor": 2
}
