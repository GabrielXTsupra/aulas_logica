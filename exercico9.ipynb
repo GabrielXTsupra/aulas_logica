{
 "cells": [
  {
   "cell_type": "code",
   "execution_count": 1,
   "metadata": {},
   "outputs": [
    {
     "name": "stdout",
     "output_type": "stream",
     "text": [
      "--------------------------------------------------\n",
      "boas vindas\n",
      "--------------------------------------------------\n"
     ]
    }
   ],
   "source": [
    "def ferias():\n",
    "    print('-'*50)\n",
    "    print('boas vindas')\n",
    "    print('-'*50)\n",
    "ferias()\n",
    "    \n"
   ]
  },
  {
   "cell_type": "code",
   "execution_count": 10,
   "metadata": {},
   "outputs": [
    {
     "name": "stdout",
     "output_type": "stream",
     "text": [
      "amarelo\n",
      "azul\n",
      "vermelho\n"
     ]
    }
   ],
   "source": [
    "def cor(lista):\n",
    "    for tinta in lista:\n",
    "     print(tinta)\n",
    "lista = ['amarelo','azul','vermelho']\n",
    "cor(lista)"
   ]
  },
  {
   "cell_type": "code",
   "execution_count": 17,
   "metadata": {},
   "outputs": [
    {
     "name": "stdout",
     "output_type": "stream",
     "text": [
      "10 x 1 = 10\n",
      "10 x 2 = 20\n",
      "10 x 3 = 30\n",
      "10 x 4 = 40\n",
      "10 x 5 = 50\n",
      "10 x 6 = 60\n",
      "10 x 7 = 70\n",
      "10 x 8 = 80\n",
      "10 x 9 = 90\n",
      "10 x 10 = 100\n",
      "20 x 1 = 20\n",
      "20 x 2 = 40\n",
      "20 x 3 = 60\n",
      "20 x 4 = 80\n",
      "20 x 5 = 100\n",
      "20 x 6 = 120\n",
      "20 x 7 = 140\n",
      "20 x 8 = 160\n",
      "20 x 9 = 180\n",
      "20 x 10 = 200\n",
      "30 x 1 = 30\n",
      "30 x 2 = 60\n",
      "30 x 3 = 90\n",
      "30 x 4 = 120\n",
      "30 x 5 = 150\n",
      "30 x 6 = 180\n",
      "30 x 7 = 210\n",
      "30 x 8 = 240\n",
      "30 x 9 = 270\n",
      "30 x 10 = 300\n"
     ]
    }
   ],
   "source": [
    "\n",
    "def tabuada(n):\n",
    "    for  x  in range(10):\n",
    "        x += 1\n",
    "        print(f'{n} x {x} = {n*x}')\n",
    "tabuada(10)\n",
    "tabuada(20)\n",
    "tabuada(30)"
   ]
  },
  {
   "cell_type": "code",
   "execution_count": 14,
   "metadata": {},
   "outputs": [
    {
     "name": "stdout",
     "output_type": "stream",
     "text": [
      "42\n"
     ]
    }
   ],
   "source": [
    "def calculadora(n1,n2,op):\n",
    "    if op == '+':\n",
    "        res = n1+n2\n",
    "    elif op == '-':\n",
    "        res = n1-n2\n",
    "    elif op =='*':\n",
    "        res = n1*n2\n",
    "    elif op == '/':\n",
    "        res = n1/n2\n",
    "    elif op == '**':\n",
    "        res = n1**n2\n",
    "    else:\n",
    "        res = 'digite um operador valido'\n",
    "    print(res)\n",
    "calculadora(6,7, '*')\n",
    "    "
   ]
  },
  {
   "cell_type": "code",
   "execution_count": 50,
   "metadata": {},
   "outputs": [
    {
     "data": {
      "text/plain": [
       "'Ou=OQab2'"
      ]
     },
     "execution_count": 50,
     "metadata": {},
     "output_type": "execute_result"
    }
   ],
   "source": [
    "import random \n",
    "def senhaale(tamanho):\n",
    "    lista = 'qwertyuiopasdfghjklzxcvbnmQWERTYUIOPASDFGHJKLÇZXCVBNM/.,;~][=´-/.;,][=-12036545789/*/º]'\n",
    "    senha = ''\n",
    "    for x in range(tamanho):\n",
    "        senha= senha + random.choice(lista)\n",
    "    return(senha)\n",
    "senhaale(8)"
   ]
  },
  {
   "cell_type": "code",
   "execution_count": null,
   "metadata": {},
   "outputs": [],
   "source": []
  }
 ],
 "metadata": {
  "kernelspec": {
   "display_name": "Python 3",
   "language": "python",
   "name": "python3"
  },
  "language_info": {
   "codemirror_mode": {
    "name": "ipython",
    "version": 3
   },
   "file_extension": ".py",
   "mimetype": "text/x-python",
   "name": "python",
   "nbconvert_exporter": "python",
   "pygments_lexer": "ipython3",
   "version": "3.12.3"
  }
 },
 "nbformat": 4,
 "nbformat_minor": 2
}
