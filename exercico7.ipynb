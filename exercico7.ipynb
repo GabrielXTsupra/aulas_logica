{
 "cells": [
  {
   "cell_type": "code",
   "execution_count": 1,
   "metadata": {},
   "outputs": [
    {
     "name": "stdout",
     "output_type": "stream",
     "text": [
      "filme1\n"
     ]
    }
   ],
   "source": [
    "#Exiba apenas o primeiro o filme da lista\n",
    "filmes = ['filme1', 'filme2', 'filme3', 'filme4', 'filme5', 'filme6', 'filme7']\n",
    "print (filmes [0])"
   ]
  },
  {
   "cell_type": "code",
   "execution_count": 2,
   "metadata": {},
   "outputs": [
    {
     "name": "stdout",
     "output_type": "stream",
     "text": [
      "filme5\n"
     ]
    }
   ],
   "source": [
    "#Exiba o filme da posição 4\n",
    "filmes = ['filme1', 'filme2', 'filme3', 'filme4', 'filme5', 'filme6', 'filme7']\n",
    "print (filmes [4])"
   ]
  },
  {
   "cell_type": "code",
   "execution_count": 4,
   "metadata": {},
   "outputs": [
    {
     "name": "stdout",
     "output_type": "stream",
     "text": [
      "['filme1', 'filme2', 'filme3', 'filme4', 'filme5', 'filme6', 'filme8']\n"
     ]
    }
   ],
   "source": [
    "#Substitua o filme da última posição e exiba a lista\n",
    "filmes = ['filme1', 'filme2', 'filme3', 'filme4', 'filme5', 'filme6', 'filme7']\n",
    "filmes [6] = 'filme8'\n",
    "print(filmes)\n"
   ]
  },
  {
   "cell_type": "code",
   "execution_count": 5,
   "metadata": {},
   "outputs": [
    {
     "name": "stdout",
     "output_type": "stream",
     "text": [
      "['filme1', 'filme2', 'filme3', 'filme4', 'filme5', 'filme6', 'filme7', 'filme8']\n"
     ]
    }
   ],
   "source": [
    "#Insira um novo filme no final da lista e exiba a lista\n",
    "filmes = ['filme1', 'filme2', 'filme3', 'filme4', 'filme5', 'filme6', 'filme7']\n",
    "filmes.append('filme8')\n",
    "print(filmes)"
   ]
  },
  {
   "cell_type": "code",
   "execution_count": 6,
   "metadata": {},
   "outputs": [
    {
     "name": "stdout",
     "output_type": "stream",
     "text": [
      "['filme1', 'filme2', 'filme3', 'filme4', 'filme5', 'filme9', 'filme6', 'filme7']\n"
     ]
    }
   ],
   "source": [
    "#Insira um novo filme na posição 5 e exiba a lista\n",
    "filmes = ['filme1', 'filme2', 'filme3', 'filme4', 'filme5', 'filme6', 'filme7']\n",
    "filmes.insert(5, 'filme9')\n",
    "print(filmes)"
   ]
  },
  {
   "cell_type": "code",
   "execution_count": 8,
   "metadata": {},
   "outputs": [
    {
     "name": "stdout",
     "output_type": "stream",
     "text": [
      "['filme2', 'filme3', 'filme4', 'filme5', 'filme6', 'filme7']\n"
     ]
    }
   ],
   "source": [
    "#Exclua o primeiro filme e exiba a lista\n",
    "filmes = ['filme1', 'filme2', 'filme3', 'filme4', 'filme5', 'filme6', 'filme7']\n",
    "del filmes [0]\n",
    "print(filmes)"
   ]
  },
  {
   "cell_type": "code",
   "execution_count": 9,
   "metadata": {},
   "outputs": [
    {
     "name": "stdout",
     "output_type": "stream",
     "text": [
      "['filme1', 'filme2', 'filme3', 'filme4', 'filme5', 'filme6']\n"
     ]
    }
   ],
   "source": [
    "#Exclua o último filme e exiba a lista\n",
    "filmes = ['filme1', 'filme2', 'filme3', 'filme4', 'filme5', 'filme6', 'filme7']\n",
    "del filmes [6]\n",
    "print(filmes)"
   ]
  },
  {
   "cell_type": "code",
   "execution_count": 12,
   "metadata": {},
   "outputs": [
    {
     "name": "stdout",
     "output_type": "stream",
     "text": [
      "['filme1', 'filme2', 'filme3']\n"
     ]
    }
   ],
   "source": [
    "#Exiba os 3 primeiros filmes da lista\n",
    "filmes = ['filme1', 'filme2', 'filme3', 'filme4', 'filme5', 'filme6', 'filme7']\n",
    "print (filmes[0:3])\n"
   ]
  },
  {
   "cell_type": "code",
   "execution_count": 28,
   "metadata": {},
   "outputs": [
    {
     "name": "stdout",
     "output_type": "stream",
     "text": [
      "['filme4', 'filme5', 'filme6', 'filme7']\n"
     ]
    }
   ],
   "source": [
    "\n",
    "#Exiba os 4 últimos filmes da lista\n",
    "filmes = ['filme1', 'filme2', 'filme3', 'filme4', 'filme5', 'filme6', 'filme7']\n",
    "print (filmes[-4:])"
   ]
  },
  {
   "cell_type": "code",
   "execution_count": 27,
   "metadata": {},
   "outputs": [
    {
     "name": "stdout",
     "output_type": "stream",
     "text": [
      "7\n"
     ]
    }
   ],
   "source": [
    "#Exiba a quantidade de filmes atualmente na lista\n",
    "filmes = ['filme1', 'filme2', 'filme3', 'filme4', 'filme5', 'filme6', 'filme7']\n",
    "print (len (filmes))"
   ]
  },
  {
   "cell_type": "code",
   "execution_count": 26,
   "metadata": {},
   "outputs": [
    {
     "name": "stdout",
     "output_type": "stream",
     "text": [
      "['filme7', 'filme6', 'filme5', 'filme4', 'filme3', 'filme2', 'filme1']\n"
     ]
    }
   ],
   "source": [
    "#Ordene os filmes em ordem decrescente e exiba-os\n",
    "filmes = ['filme1', 'filme2', 'filme3', 'filme4', 'filme5', 'filme6', 'filme7']\n",
    "filmes.reverse()\n",
    "print(filmes)"
   ]
  },
  {
   "cell_type": "code",
   "execution_count": 36,
   "metadata": {},
   "outputs": [
    {
     "name": "stdout",
     "output_type": "stream",
     "text": [
      "sao paulo e campeão\n",
      "['sao paulo', 'flamengo', 'atletico-MG', 'gremio'] Vao jogar na libertadores\n",
      "['vitoria', 'juventude', 'criciuma', 'atletico-GO'] Vao ser rebaixado para seri B\n"
     ]
    }
   ],
   "source": [
    "times = ['sao paulo','flamengo', 'atletico-MG','gremio', 'botafogo','red bull bragantino', 'fluminence', 'atletico-PR', 'internacional', 'fortaleza', 'palmeiras', 'cuiaba', 'corinthians','cruzeiro', 'vasco', 'bahia', 'vitoria', 'juventude', 'criciuma', 'atletico-GO' ]\n",
    "print (times[0],'e campeão')\n",
    "print (times[0:4], 'Vao jogar na libertadores')\n",
    "print (times [-4:], 'Vao ser rebaixado para seri B')\n",
    "\n",
    "\n"
   ]
  },
  {
   "cell_type": "code",
   "execution_count": 4,
   "metadata": {},
   "outputs": [
    {
     "name": "stdout",
     "output_type": "stream",
     "text": [
      "['lasanha', 'arroz', 'batata', 'feijao', 'peixe', 'carne']\n",
      "lasanha\n",
      "peixe\n",
      "['lasanha', 'arroz', 'batata', 'feijao', 'peixe', 'atum']\n",
      "['lasanha', 'arroz', 'batata', 'feijao', 'peixe', 'atum', 'comida nova']\n"
     ]
    }
   ],
   "source": [
    "comidas = []\n",
    "for x in range (1, 7):\n",
    "    alimentos = input('digite 6 comidas:')\n",
    "    comidas.append(alimentos)\n",
    "print (comidas)\n",
    "comidas \n",
    "print (comidas [0])\n",
    "comidas\n",
    "print(comidas [4])\n",
    "comidas [5] = 'atum'\n",
    "print(comidas)\n",
    "comidas.append ('comida nova')\n",
    "print(comidas)"
   ]
  }
 ],
 "metadata": {
  "kernelspec": {
   "display_name": "Python 3",
   "language": "python",
   "name": "python3"
  },
  "language_info": {
   "codemirror_mode": {
    "name": "ipython",
    "version": 3
   },
   "file_extension": ".py",
   "mimetype": "text/x-python",
   "name": "python",
   "nbconvert_exporter": "python",
   "pygments_lexer": "ipython3",
   "version": "3.12.3"
  }
 },
 "nbformat": 4,
 "nbformat_minor": 2
}
