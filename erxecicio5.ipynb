{
 "cells": [
  {
   "cell_type": "code",
   "execution_count": 1,
   "metadata": {},
   "outputs": [
    {
     "name": "stdout",
     "output_type": "stream",
     "text": [
      "o numero 2 e par:\n",
      "o numero 4 e par:\n",
      "o numero 6 e par:\n",
      "o numero 8 e par:\n",
      "o numero 10 e par:\n",
      "o numero 12 e par:\n",
      "o numero 14 e par:\n",
      "o numero 16 e par:\n",
      "o numero 18 e par:\n",
      "o numero 20 e par:\n"
     ]
    }
   ],
   "source": [
    "#utilizando o comando while, exiba todos os numeros pares de 1 a 20\n",
    "numero = 1\n",
    "while numero <= 20:\n",
    "    if numero % 2 ==0:\n",
    "        print(f'o numero {numero} e par:')\n",
    "    numero = numero + 1 "
   ]
  },
  {
   "cell_type": "code",
   "execution_count": 1,
   "metadata": {},
   "outputs": [],
   "source": [
    "import random\n",
    "nSorteado = random.randint (1,61)\n",
    "mega = 1\n",
    "while mega <= 6:\n",
    "    mega = random.randint (1,61)\n",
    "    print(mega)\n",
    "mega = mega + 1"
   ]
  }
 ],
 "metadata": {
  "kernelspec": {
   "display_name": "Python 3",
   "language": "python",
   "name": "python3"
  },
  "language_info": {
   "codemirror_mode": {
    "name": "ipython",
    "version": 3
   },
   "file_extension": ".py",
   "mimetype": "text/x-python",
   "name": "python",
   "nbconvert_exporter": "python",
   "pygments_lexer": "ipython3",
   "version": "3.12.2"
  }
 },
 "nbformat": 4,
 "nbformat_minor": 2
}
