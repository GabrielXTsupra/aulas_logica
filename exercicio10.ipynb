{
 "cells": [
  {
   "cell_type": "code",
   "execution_count": 2,
   "metadata": {},
   "outputs": [
    {
     "name": "stdout",
     "output_type": "stream",
     "text": [
      "1\n",
      "2\n",
      "1\n",
      "2\n"
     ]
    }
   ],
   "source": [
    "numero= 0 \n",
    "def contar():\n",
    "    global numero\n",
    "    numero += 1\n",
    "    print(numero)\n",
    "\n",
    "def diminuir():\n",
    "    global numero\n",
    "    numero += -1\n",
    "    print(numero)\n",
    "contar()\n",
    "contar()\n",
    "diminuir()\n",
    "contar()"
   ]
  },
  {
   "cell_type": "code",
   "execution_count": 1,
   "metadata": {},
   "outputs": [
    {
     "name": "stdout",
     "output_type": "stream",
     "text": [
      "a divisao de $ 54 / 5.13 e igual a 10.53 dolar americano\n",
      "a divisao de $ 54 / 5.43 e igual a 9.94 euros\n"
     ]
    }
   ],
   "source": [
    "dolar = 5.13\n",
    "euro = 5.43\n",
    "def dinheiro(reais):\n",
    "    \n",
    "    res = (reais/ 5.13)\n",
    "    print(f'a divisao de $ {reais} / {dolar} e igual a {res:.2f} dolar americano')\n",
    "    res2 = (reais / euro)\n",
    "    print(f'a divisao de $ {reais} / {euro} e igual a {res2:.2f} euros')\n",
    "\n",
    "reais = int(input('digite a quatidade de dinheiro brasileiro'))\n",
    "dinheiro(reais)"
   ]
  },
  {
   "cell_type": "code",
   "execution_count": 6,
   "metadata": {},
   "outputs": [
    {
     "ename": "TypeError",
     "evalue": "list.append() takes exactly one argument (0 given)",
     "output_type": "error",
     "traceback": [
      "\u001b[1;31m---------------------------------------------------------------------------\u001b[0m",
      "\u001b[1;31mTypeError\u001b[0m                                 Traceback (most recent call last)",
      "Cell \u001b[1;32mIn[6], line 9\u001b[0m\n\u001b[0;32m      7\u001b[0m     listanomes\u001b[38;5;241m.\u001b[39mremove(nomes)\n\u001b[0;32m      8\u001b[0m     \u001b[38;5;28mprint\u001b[39m(listanomes)\n\u001b[1;32m----> 9\u001b[0m \u001b[43madicionar\u001b[49m\u001b[43m(\u001b[49m\u001b[38;5;124;43m'\u001b[39;49m\u001b[38;5;124;43mmarcos ja eu que fiz\u001b[39;49m\u001b[38;5;124;43m'\u001b[39;49m\u001b[43m)\u001b[49m\n\u001b[0;32m     10\u001b[0m adicionar(\u001b[38;5;124m'\u001b[39m\u001b[38;5;124mdouglas\u001b[39m\u001b[38;5;124m'\u001b[39m)\n\u001b[0;32m     11\u001b[0m remover(\u001b[38;5;124m'\u001b[39m\u001b[38;5;124mdouglas\u001b[39m\u001b[38;5;124m'\u001b[39m)\n",
      "Cell \u001b[1;32mIn[6], line 4\u001b[0m, in \u001b[0;36madicionar\u001b[1;34m(nomes)\u001b[0m\n\u001b[0;32m      3\u001b[0m \u001b[38;5;28;01mdef\u001b[39;00m \u001b[38;5;21madicionar\u001b[39m(nomes):\n\u001b[1;32m----> 4\u001b[0m     \u001b[43mlistanomes\u001b[49m\u001b[38;5;241;43m.\u001b[39;49m\u001b[43mappend\u001b[49m\u001b[43m(\u001b[49m\u001b[43m)\u001b[49m\n\u001b[0;32m      5\u001b[0m     \u001b[38;5;28mprint\u001b[39m(listanomes)\n",
      "\u001b[1;31mTypeError\u001b[0m: list.append() takes exactly one argument (0 given)"
     ]
    }
   ],
   "source": [
    "listanomes = []\n",
    "\n",
    "def adicionar(nomes):\n",
    "    listanomes.append()\n",
    "    print(listanomes)\n",
    "def remover(nomes):\n",
    "    listanomes.remove(nomes)\n",
    "    print(listanomes)\n",
    "adicionar('marcos ja eu que fiz')\n",
    "adicionar('douglas')\n",
    "remover('douglas')"
   ]
  },
  {
   "cell_type": "code",
   "execution_count": 8,
   "metadata": {},
   "outputs": [
    {
     "name": "stdout",
     "output_type": "stream",
     "text": [
      "menu\n",
      "[1]depositar\n",
      "[2] sacar\n",
      "[3] consultar\n",
      "[4] sair\n",
      "seu saldo $234.00\n",
      "seu saldo $144.00\n",
      "seu saldo $133.00\n"
     ]
    }
   ],
   "source": [
    "saldo = 0\n",
    "def depositar(valor):\n",
    "    global saldo\n",
    "    saldo = saldo + valor\n",
    "def sacar(valor):\n",
    "    global saldo\n",
    "    saldo = saldo - valor\n",
    "def consultarsaldo():\n",
    "    print(f'seu saldo ${saldo:.2f}')\n",
    "print('menu')\n",
    "print('[1]depositar')\n",
    "print('[2] sacar')\n",
    "print('[3] consultar')\n",
    "print('[4] sair')\n",
    "while True:\n",
    "    opcao = input('digite a opção do menu')\n",
    "    if opcao == '1':\n",
    "        valor = float(input('digite o valor para depositar'))\n",
    "        depositar(valor)\n",
    "    elif opcao == '2':\n",
    "        valor = float(input('digite o valor a sacar'))\n",
    "        sacar(valor)\n",
    "    elif opcao == '3':\n",
    "        consultarsaldo()\n",
    "    else: \n",
    "        break"
   ]
  },
  {
   "cell_type": "code",
   "execution_count": 10,
   "metadata": {},
   "outputs": [
    {
     "name": "stdout",
     "output_type": "stream",
     "text": [
      "+\n",
      "+\n",
      "+\n",
      "+\n",
      "+\n"
     ]
    }
   ],
   "source": [
    "caractere = '+'\n",
    "def desenharforma(l, a):\n",
    "    global caractere\n",
    "    for i in range(a):\n",
    "        print(caractere*1)\n",
    "desenharforma(20,5)"
   ]
  },
  {
   "cell_type": "code",
   "execution_count": null,
   "metadata": {},
   "outputs": [],
   "source": []
  }
 ],
 "metadata": {
  "kernelspec": {
   "display_name": "Python 3",
   "language": "python",
   "name": "python3"
  },
  "language_info": {
   "codemirror_mode": {
    "name": "ipython",
    "version": 3
   },
   "file_extension": ".py",
   "mimetype": "text/x-python",
   "name": "python",
   "nbconvert_exporter": "python",
   "pygments_lexer": "ipython3",
   "version": "3.12.3"
  }
 },
 "nbformat": 4,
 "nbformat_minor": 2
}
