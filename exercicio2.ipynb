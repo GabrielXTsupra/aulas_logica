{
 "cells": [
  {
   "cell_type": "code",
   "execution_count": 1,
   "metadata": {},
   "outputs": [
    {
     "name": "stdout",
     "output_type": "stream",
     "text": [
      "aprovado\n"
     ]
    }
   ],
   "source": [
    "nota1 = float(input('digite sua primeira nota:'))\n",
    "nota2 = float(input('digite sua segunta nota:'))\n",
    "media = (nota1 + nota2) / 2\n",
    "if media > 7:\n",
    "    print ('aprovado')\n",
    "else: \n",
    "    print('reprovado')\n",
    "\n"
   ]
  },
  {
   "cell_type": "code",
   "execution_count": 14,
   "metadata": {},
   "outputs": [
    {
     "name": "stdout",
     "output_type": "stream",
     "text": [
      "o 65.0 e menor que o 78.0\n"
     ]
    }
   ],
   "source": [
    "numero1 = float(input('digite o primeiro numero:'))\n",
    "numero2 = float(input('digite o segundo numero:'))\n",
    "if numero1 > numero2: \n",
    "    print (f'o {numero1} e miaor que o {numero2}')\n",
    "else:\n",
    "    print (f'o {numero1} e menor que o {numero2}')"
   ]
  },
  {
   "cell_type": "code",
   "execution_count": 4,
   "metadata": {},
   "outputs": [
    {
     "name": "stdout",
     "output_type": "stream",
     "text": [
      "par\n"
     ]
    }
   ],
   "source": [
    "numero1 = float(input('digite o primeiro numero'))\n",
    "divisao = numero1 % 2 \n",
    "if divisao == 0:\n",
    "    print ('par')\n",
    "else:\n",
    "    print('impar')\n",
    "    \n",
    "\n"
   ]
  },
  {
   "cell_type": "code",
   "execution_count": 27,
   "metadata": {},
   "outputs": [
    {
     "name": "stdout",
     "output_type": "stream",
     "text": [
      "positivo\n"
     ]
    }
   ],
   "source": [
    "numero1 = int(input('digite o primeiro numero:'))\n",
    "if numero1 > 0:\n",
    "    print('positivo')\n",
    "else:\n",
    "    print('negativo')"
   ]
  },
  {
   "cell_type": "code",
   "execution_count": 44,
   "metadata": {},
   "outputs": [
    {
     "name": "stdout",
     "output_type": "stream",
     "text": [
      "maior de idade\n"
     ]
    }
   ],
   "source": [
    "pessoa = float(input(''))\n",
    "idade = 2024 - pessoa \n",
    "if pessoa >= 18:\n",
    "    print('maior de idade')\n",
    "else:\n",
    "    print('menor de idade')"
   ]
  },
  {
   "cell_type": "code",
   "execution_count": 35,
   "metadata": {},
   "outputs": [
    {
     "name": "stdout",
     "output_type": "stream",
     "text": [
      "o 35 e igual 35\n"
     ]
    }
   ],
   "source": [
    "    numero1 = int(input('digite o primeiro numero:'))\n",
    "    numero2 = int(input('digite o segundo numero:'))\n",
    "    if numero1 == numero2:\n",
    "        print (f'o {numero1} e igual {numero2}')\n",
    "    else: \n",
    "        print (f'o {numero1} e diferente do {numero2}')"
   ]
  },
  {
   "cell_type": "code",
   "execution_count": 47,
   "metadata": {},
   "outputs": [],
   "source": [
    "velocidade = float(input('digite a velocidade do carro:'))\n",
    "if velocidade > 80:\n",
    "    valor = (velocidade - 80) * 7\n",
    "    print(f' A multa foi de {valor}')"
   ]
  }
 ],
 "metadata": {
  "kernelspec": {
   "display_name": "Python 3",
   "language": "python",
   "name": "python3"
  },
  "language_info": {
   "codemirror_mode": {
    "name": "ipython",
    "version": 3
   },
   "file_extension": ".py",
   "mimetype": "text/x-python",
   "name": "python",
   "nbconvert_exporter": "python",
   "pygments_lexer": "ipython3",
   "version": "3.12.2"
  }
 },
 "nbformat": 4,
 "nbformat_minor": 2
}
